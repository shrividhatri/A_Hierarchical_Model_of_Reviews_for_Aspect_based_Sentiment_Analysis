{
 "cells": [
  {
   "cell_type": "code",
   "metadata": {
    "cell_id": "00000-1e1740c5-0df4-4da2-940c-91c68b4088c7",
    "deepnote_to_be_reexecuted": false,
    "source_hash": "699ac867",
    "execution_start": 1638836439635,
    "execution_millis": 0,
    "deepnote_cell_type": "code"
   },
   "source": "import csv",
   "outputs": [],
   "execution_count": null
  },
  {
   "cell_type": "code",
   "metadata": {
    "cell_id": "00001-10db649e-d066-4baf-ae08-4cba5563721c",
    "deepnote_to_be_reexecuted": false,
    "source_hash": "437e4d1d",
    "execution_start": 1638836439636,
    "execution_millis": 0,
    "deepnote_cell_type": "code"
   },
   "source": "arr=[]\narr1=[]\narr2=[]\narr3=[]\nwith open('train.csv') as csv_file:\n    csv_reader = csv.reader(csv_file, delimiter=',')\n    line_count = 0\n    for row in csv_reader:\n        #print(row[0])\n        arr.append(row[0])\n        arr1.append(row[1])\n        arr2.append(row[2])\n        arr3.append(row[3])\nwith open('test.csv') as csv_file:\n    csv_reader = csv.reader(csv_file, delimiter=',')\n    line_count = 0\n    for row in csv_reader:\n        #print(row[0])\n        arr.append(row[0])\n        arr1.append(row[1])\n        arr2.append(row[2])\n        arr3.append(row[3])",
   "outputs": [],
   "execution_count": null
  },
  {
   "cell_type": "code",
   "metadata": {
    "cell_id": "00002-a66d8e38-b323-4acd-856f-0ebbe0991e5a",
    "deepnote_output_heights": [
     null,
     611
    ],
    "deepnote_to_be_reexecuted": false,
    "source_hash": "e03044a5",
    "execution_start": 1638836439663,
    "execution_millis": 96,
    "deepnote_cell_type": "code"
   },
   "source": "x=0\nnum=[]\nfor i in arr:\n    x=x+1\n    if i != '':\n        num.append(x)\nprint(len(num))\ndatas=[]\nfor i in range(len(num)):\n    diff=[]\n    if num[i]!=num[-1]:\n        for x in range(num[i],num[i+1]):\n            diff.append(x)\n    datas.append(diff)\ndatas",
   "outputs": [
    {
     "name": "stdout",
     "text": "359\n",
     "output_type": "stream"
    },
    {
     "output_type": "execute_result",
     "execution_count": 3,
     "data": {
      "text/plain": "[[1],\n [2, 3, 4, 5, 6, 7, 8, 9, 10, 11, 12, 13],\n [14, 15, 16, 17, 18],\n [19, 20, 21, 22, 23, 24, 25, 26, 27, 28],\n [29, 30, 31, 32, 33, 34, 35, 36, 37, 38, 39, 40, 41, 42, 43, 44, 45],\n [46, 47, 48, 49, 50],\n [51, 52, 53, 54, 55, 56, 57],\n [58, 59],\n [60, 61, 62, 63, 64, 65, 66, 67],\n [68, 69, 70, 71, 72, 73],\n [74, 75, 76, 77],\n [78, 79, 80, 81],\n [82, 83, 84, 85, 86, 87, 88, 89, 90, 91, 92, 93, 94, 95, 96],\n [97, 98, 99, 100, 101, 102],\n [103, 104, 105, 106, 107],\n [108, 109, 110, 111, 112, 113, 114, 115, 116],\n [117, 118],\n [119, 120, 121, 122, 123, 124, 125, 126, 127, 128, 129, 130, 131],\n [132, 133, 134],\n [135, 136, 137, 138, 139],\n [140, 141, 142, 143, 144, 145, 146, 147, 148, 149, 150],\n [151, 152, 153, 154],\n [155, 156, 157, 158, 159, 160],\n [161, 162, 163, 164, 165, 166, 167, 168, 169, 170, 171],\n [172, 173, 174, 175],\n [176, 177, 178, 179, 180, 181, 182],\n [183, 184, 185],\n [186, 187, 188, 189, 190, 191],\n [192, 193, 194, 195, 196, 197, 198, 199, 200],\n [201, 202, 203, 204, 205, 206, 207],\n [208, 209, 210, 211, 212, 213, 214],\n [215, 216, 217, 218, 219, 220],\n [221, 222, 223],\n [224, 225, 226, 227, 228, 229, 230],\n [231, 232, 233, 234],\n [235, 236, 237, 238],\n [239, 240, 241],\n [242, 243, 244],\n [245, 246, 247, 248],\n [249, 250, 251, 252, 253, 254],\n [255, 256, 257],\n [258],\n [259, 260, 261],\n [262, 263, 264, 265],\n [266],\n [267, 268, 269],\n [270, 271, 272, 273],\n [274],\n [275, 276, 277, 278, 279, 280, 281],\n [282, 283, 284, 285, 286, 287, 288],\n [289, 290, 291],\n [292, 293, 294],\n [295, 296, 297, 298, 299],\n [300, 301, 302, 303],\n [304, 305, 306, 307, 308],\n [309, 310, 311, 312, 313, 314],\n [315],\n [316, 317, 318, 319, 320, 321],\n [322, 323, 324, 325, 326, 327],\n [328, 329, 330],\n [331, 332, 333],\n [334, 335, 336, 337, 338, 339, 340],\n [341, 342],\n [343],\n [344, 345, 346],\n [347, 348, 349, 350],\n [351, 352, 353, 354, 355],\n [356, 357, 358, 359, 360],\n [361, 362, 363, 364, 365],\n [366, 367, 368],\n [369, 370, 371, 372],\n [373, 374, 375, 376, 377, 378],\n [379, 380, 381, 382, 383, 384, 385],\n [386, 387, 388, 389, 390, 391, 392],\n [393, 394, 395, 396, 397],\n [398, 399, 400],\n [401, 402, 403],\n [404, 405, 406, 407, 408, 409, 410, 411],\n [412, 413],\n [414, 415, 416, 417, 418, 419, 420, 421],\n [422, 423, 424],\n [425, 426, 427, 428, 429],\n [430, 431, 432, 433],\n [434, 435],\n [436, 437, 438, 439, 440, 441, 442],\n [443, 444, 445, 446, 447, 448, 449],\n [450, 451, 452, 453, 454, 455, 456, 457],\n [458, 459, 460, 461, 462, 463, 464, 465, 466, 467, 468, 469, 470],\n [471,\n  472,\n  473,\n  474,\n  475,\n  476,\n  477,\n  478,\n  479,\n  480,\n  481,\n  482,\n  483,\n  484,\n  485,\n  486,\n  487,\n  488,\n  489,\n  490],\n [491, 492, 493, 494, 495, 496, 497, 498, 499],\n [500, 501, 502, 503],\n [504, 505, 506, 507, 508],\n [509, 510, 511, 512, 513, 514, 515],\n [516, 517, 518, 519, 520, 521, 522, 523],\n [524, 525, 526, 527, 528, 529, 530, 531, 532, 533, 534, 535, 536, 537],\n [538,\n  539,\n  540,\n  541,\n  542,\n  543,\n  544,\n  545,\n  546,\n  547,\n  548,\n  549,\n  550,\n  551,\n  552,\n  553],\n [554,\n  555,\n  556,\n  557,\n  558,\n  559,\n  560,\n  561,\n  562,\n  563,\n  564,\n  565,\n  566,\n  567,\n  568,\n  569,\n  570,\n  571],\n [572, 573, 574, 575, 576, 577],\n [578,\n  579,\n  580,\n  581,\n  582,\n  583,\n  584,\n  585,\n  586,\n  587,\n  588,\n  589,\n  590,\n  591,\n  592,\n  593,\n  594,\n  595,\n  596],\n [597,\n  598,\n  599,\n  600,\n  601,\n  602,\n  603,\n  604,\n  605,\n  606,\n  607,\n  608,\n  609,\n  610,\n  611,\n  612,\n  613,\n  614,\n  615,\n  616,\n  617,\n  618,\n  619,\n  620],\n [621, 622, 623, 624, 625, 626, 627],\n [628, 629, 630, 631, 632],\n [633, 634, 635, 636],\n [637, 638, 639, 640, 641],\n [642, 643],\n [644, 645, 646, 647, 648, 649, 650, 651, 652],\n [653],\n [654, 655, 656, 657, 658, 659, 660, 661],\n [662, 663, 664],\n [665, 666],\n [667, 668, 669, 670, 671, 672, 673, 674],\n [675, 676, 677, 678],\n [679, 680, 681, 682],\n [683, 684, 685, 686, 687],\n [688, 689, 690, 691, 692],\n [693, 694, 695, 696, 697, 698, 699],\n [700, 701, 702, 703, 704, 705, 706],\n [707, 708, 709, 710, 711, 712, 713],\n [714, 715, 716, 717],\n [718, 719, 720, 721, 722],\n [723, 724, 725, 726, 727, 728],\n [729, 730, 731, 732, 733, 734, 735, 736, 737, 738],\n [739, 740],\n [741, 742, 743, 744, 745, 746],\n [747, 748, 749, 750, 751, 752, 753],\n [754, 755, 756, 757, 758, 759, 760, 761],\n [762, 763, 764, 765, 766],\n [767, 768, 769, 770],\n [771, 772, 773, 774, 775, 776, 777, 778, 779, 780],\n [781, 782, 783, 784, 785, 786, 787, 788],\n [789, 790, 791, 792, 793, 794, 795, 796, 797, 798, 799, 800, 801, 802],\n [803, 804, 805, 806, 807, 808],\n [809, 810, 811, 812, 813, 814, 815],\n [816, 817, 818, 819, 820, 821, 822],\n [823, 824, 825, 826, 827, 828, 829, 830, 831, 832, 833, 834, 835, 836],\n [837, 838, 839, 840, 841, 842, 843, 844, 845, 846, 847, 848, 849, 850, 851],\n [852, 853, 854, 855, 856, 857, 858],\n [859, 860, 861, 862, 863, 864, 865, 866, 867, 868, 869, 870, 871, 872, 873],\n [874, 875, 876, 877, 878, 879, 880, 881, 882, 883, 884, 885, 886, 887, 888],\n [889, 890, 891],\n [892, 893, 894],\n [895, 896, 897, 898, 899],\n [900, 901, 902, 903, 904, 905, 906, 907],\n [908,\n  909,\n  910,\n  911,\n  912,\n  913,\n  914,\n  915,\n  916,\n  917,\n  918,\n  919,\n  920,\n  921,\n  922,\n  923],\n [924, 925, 926, 927, 928, 929, 930, 931, 932, 933, 934, 935],\n [936, 937, 938, 939, 940, 941],\n [942, 943, 944, 945, 946, 947, 948],\n [949, 950, 951, 952, 953],\n [954, 955, 956, 957, 958, 959, 960],\n [961, 962, 963, 964, 965, 966, 967, 968, 969],\n [970,\n  971,\n  972,\n  973,\n  974,\n  975,\n  976,\n  977,\n  978,\n  979,\n  980,\n  981,\n  982,\n  983,\n  984,\n  985],\n [986, 987, 988, 989, 990],\n [991,\n  992,\n  993,\n  994,\n  995,\n  996,\n  997,\n  998,\n  999,\n  1000,\n  1001,\n  1002,\n  1003,\n  1004,\n  1005,\n  1006,\n  1007],\n [1008,\n  1009,\n  1010,\n  1011,\n  1012,\n  1013,\n  1014,\n  1015,\n  1016,\n  1017,\n  1018,\n  1019,\n  1020],\n [1021,\n  1022,\n  1023,\n  1024,\n  1025,\n  1026,\n  1027,\n  1028,\n  1029,\n  1030,\n  1031,\n  1032,\n  1033,\n  1034,\n  1035,\n  1036],\n [1037, 1038, 1039, 1040, 1041, 1042],\n [1043, 1044, 1045, 1046],\n [1047, 1048, 1049, 1050, 1051, 1052],\n [1053, 1054, 1055, 1056, 1057, 1058, 1059, 1060, 1061, 1062],\n [1063,\n  1064,\n  1065,\n  1066,\n  1067,\n  1068,\n  1069,\n  1070,\n  1071,\n  1072,\n  1073,\n  1074,\n  1075,\n  1076,\n  1077,\n  1078,\n  1079,\n  1080,\n  1081,\n  1082,\n  1083,\n  1084,\n  1085,\n  1086,\n  1087,\n  1088,\n  1089,\n  1090,\n  1091,\n  1092,\n  1093,\n  1094,\n  1095,\n  1096],\n [1097, 1098, 1099, 1100, 1101, 1102, 1103, 1104, 1105],\n [1106, 1107, 1108, 1109, 1110, 1111, 1112, 1113, 1114],\n [1115,\n  1116,\n  1117,\n  1118,\n  1119,\n  1120,\n  1121,\n  1122,\n  1123,\n  1124,\n  1125,\n  1126,\n  1127,\n  1128,\n  1129,\n  1130,\n  1131,\n  1132,\n  1133],\n [1134, 1135, 1136, 1137, 1138, 1139, 1140],\n [1141, 1142, 1143, 1144, 1145],\n [1146,\n  1147,\n  1148,\n  1149,\n  1150,\n  1151,\n  1152,\n  1153,\n  1154,\n  1155,\n  1156,\n  1157,\n  1158,\n  1159,\n  1160,\n  1161,\n  1162,\n  1163,\n  1164,\n  1165,\n  1166,\n  1167,\n  1168,\n  1169],\n [1170,\n  1171,\n  1172,\n  1173,\n  1174,\n  1175,\n  1176,\n  1177,\n  1178,\n  1179,\n  1180,\n  1181,\n  1182,\n  1183,\n  1184,\n  1185,\n  1186,\n  1187],\n [1188, 1189, 1190, 1191, 1192, 1193, 1194, 1195, 1196, 1197, 1198],\n [1199,\n  1200,\n  1201,\n  1202,\n  1203,\n  1204,\n  1205,\n  1206,\n  1207,\n  1208,\n  1209,\n  1210,\n  1211,\n  1212,\n  1213,\n  1214],\n [1215, 1216, 1217, 1218, 1219, 1220, 1221, 1222, 1223, 1224],\n [1225,\n  1226,\n  1227,\n  1228,\n  1229,\n  1230,\n  1231,\n  1232,\n  1233,\n  1234,\n  1235,\n  1236,\n  1237,\n  1238,\n  1239,\n  1240,\n  1241,\n  1242,\n  1243,\n  1244],\n [1245, 1246, 1247, 1248, 1249, 1250, 1251],\n [1252, 1253, 1254, 1255, 1256, 1257, 1258, 1259, 1260],\n [1261, 1262, 1263],\n [1264, 1265, 1266, 1267, 1268, 1269, 1270, 1271, 1272, 1273, 1274],\n [1275, 1276, 1277, 1278],\n [1279, 1280, 1281, 1282, 1283, 1284, 1285, 1286, 1287, 1288],\n [1289, 1290, 1291, 1292, 1293, 1294, 1295],\n [1296, 1297, 1298, 1299, 1300, 1301, 1302, 1303, 1304, 1305, 1306, 1307],\n [1308,\n  1309,\n  1310,\n  1311,\n  1312,\n  1313,\n  1314,\n  1315,\n  1316,\n  1317,\n  1318,\n  1319,\n  1320],\n [1321,\n  1322,\n  1323,\n  1324,\n  1325,\n  1326,\n  1327,\n  1328,\n  1329,\n  1330,\n  1331,\n  1332,\n  1333],\n [1334, 1335, 1336, 1337, 1338, 1339, 1340, 1341],\n [1342, 1343, 1344, 1345, 1346, 1347, 1348, 1349, 1350],\n [1351, 1352, 1353, 1354, 1355],\n [1356, 1357, 1358, 1359, 1360, 1361],\n [1362, 1363, 1364, 1365, 1366],\n [1367, 1368, 1369, 1370, 1371, 1372, 1373],\n [1374, 1375, 1376, 1377, 1378, 1379, 1380, 1381],\n [1382, 1383, 1384, 1385, 1386, 1387],\n [1388,\n  1389,\n  1390,\n  1391,\n  1392,\n  1393,\n  1394,\n  1395,\n  1396,\n  1397,\n  1398,\n  1399,\n  1400,\n  1401],\n [1402, 1403, 1404, 1405],\n [1406, 1407, 1408, 1409],\n [1410,\n  1411,\n  1412,\n  1413,\n  1414,\n  1415,\n  1416,\n  1417,\n  1418,\n  1419,\n  1420,\n  1421,\n  1422],\n [1423, 1424, 1425, 1426, 1427, 1428, 1429],\n [1430, 1431, 1432, 1433, 1434, 1435, 1436, 1437, 1438, 1439, 1440, 1441],\n [1442, 1443, 1444, 1445, 1446, 1447, 1448, 1449, 1450, 1451, 1452, 1453],\n [1454, 1455, 1456, 1457, 1458, 1459, 1460, 1461, 1462],\n [1463, 1464, 1465, 1466, 1467, 1468, 1469, 1470, 1471, 1472],\n [1473, 1474, 1475, 1476, 1477, 1478, 1479, 1480, 1481],\n [1482,\n  1483,\n  1484,\n  1485,\n  1486,\n  1487,\n  1488,\n  1489,\n  1490,\n  1491,\n  1492,\n  1493,\n  1494],\n [1495, 1496, 1497, 1498, 1499, 1500, 1501, 1502, 1503],\n [1504, 1505],\n [1506, 1507, 1508, 1509, 1510],\n [1511,\n  1512,\n  1513,\n  1514,\n  1515,\n  1516,\n  1517,\n  1518,\n  1519,\n  1520,\n  1521,\n  1522,\n  1523,\n  1524],\n [1525, 1526, 1527, 1528, 1529],\n [1530, 1531, 1532, 1533, 1534, 1535, 1536, 1537],\n [1538, 1539, 1540],\n [1541, 1542, 1543, 1544, 1545, 1546],\n [1547, 1548, 1549, 1550, 1551, 1552],\n [1553, 1554, 1555, 1556, 1557, 1558, 1559],\n [1560,\n  1561,\n  1562,\n  1563,\n  1564,\n  1565,\n  1566,\n  1567,\n  1568,\n  1569,\n  1570,\n  1571,\n  1572,\n  1573],\n [1574, 1575, 1576, 1577, 1578, 1579, 1580, 1581],\n [1582, 1583, 1584, 1585, 1586, 1587, 1588],\n [1589, 1590, 1591, 1592, 1593, 1594],\n [1595,\n  1596,\n  1597,\n  1598,\n  1599,\n  1600,\n  1601,\n  1602,\n  1603,\n  1604,\n  1605,\n  1606,\n  1607,\n  1608,\n  1609,\n  1610,\n  1611,\n  1612,\n  1613,\n  1614,\n  1615],\n [1616, 1617, 1618, 1619, 1620, 1621, 1622, 1623],\n [1624,\n  1625,\n  1626,\n  1627,\n  1628,\n  1629,\n  1630,\n  1631,\n  1632,\n  1633,\n  1634,\n  1635,\n  1636,\n  1637,\n  1638,\n  1639,\n  1640],\n [1641,\n  1642,\n  1643,\n  1644,\n  1645,\n  1646,\n  1647,\n  1648,\n  1649,\n  1650,\n  1651,\n  1652,\n  1653,\n  1654,\n  1655,\n  1656,\n  1657,\n  1658,\n  1659,\n  1660,\n  1661,\n  1662,\n  1663],\n [1664, 1665, 1666, 1667, 1668, 1669, 1670],\n [1671, 1672, 1673, 1674],\n [1675,\n  1676,\n  1677,\n  1678,\n  1679,\n  1680,\n  1681,\n  1682,\n  1683,\n  1684,\n  1685,\n  1686,\n  1687,\n  1688,\n  1689,\n  1690],\n [1691, 1692, 1693, 1694, 1695, 1696, 1697, 1698, 1699, 1700, 1701],\n [1702,\n  1703,\n  1704,\n  1705,\n  1706,\n  1707,\n  1708,\n  1709,\n  1710,\n  1711,\n  1712,\n  1713,\n  1714,\n  1715,\n  1716],\n [1717, 1718, 1719, 1720, 1721, 1722, 1723, 1724],\n [1725,\n  1726,\n  1727,\n  1728,\n  1729,\n  1730,\n  1731,\n  1732,\n  1733,\n  1734,\n  1735,\n  1736,\n  1737,\n  1738,\n  1739,\n  1740],\n [1741, 1742, 1743, 1744, 1745, 1746, 1747],\n [1748,\n  1749,\n  1750,\n  1751,\n  1752,\n  1753,\n  1754,\n  1755,\n  1756,\n  1757,\n  1758,\n  1759,\n  1760,\n  1761,\n  1762,\n  1763,\n  1764,\n  1765,\n  1766],\n [1767, 1768, 1769, 1770, 1771, 1772, 1773],\n [1774,\n  1775,\n  1776,\n  1777,\n  1778,\n  1779,\n  1780,\n  1781,\n  1782,\n  1783,\n  1784,\n  1785,\n  1786,\n  1787,\n  1788],\n [1789, 1790, 1791, 1792, 1793, 1794],\n [1795,\n  1796,\n  1797,\n  1798,\n  1799,\n  1800,\n  1801,\n  1802,\n  1803,\n  1804,\n  1805,\n  1806,\n  1807,\n  1808,\n  1809,\n  1810,\n  1811,\n  1812,\n  1813,\n  1814,\n  1815,\n  1816,\n  1817,\n  1818,\n  1819,\n  1820],\n [1821,\n  1822,\n  1823,\n  1824,\n  1825,\n  1826,\n  1827,\n  1828,\n  1829,\n  1830,\n  1831,\n  1832,\n  1833],\n [1834,\n  1835,\n  1836,\n  1837,\n  1838,\n  1839,\n  1840,\n  1841,\n  1842,\n  1843,\n  1844,\n  1845,\n  1846,\n  1847],\n [1848, 1849, 1850, 1851, 1852, 1853, 1854],\n [1855, 1856, 1857, 1858, 1859, 1860, 1861, 1862, 1863, 1864, 1865, 1866],\n [1867, 1868, 1869, 1870, 1871, 1872, 1873, 1874],\n [1875, 1876, 1877, 1878, 1879, 1880],\n [1881, 1882, 1883, 1884, 1885, 1886, 1887, 1888, 1889, 1890],\n [1891,\n  1892,\n  1893,\n  1894,\n  1895,\n  1896,\n  1897,\n  1898,\n  1899,\n  1900,\n  1901,\n  1902,\n  1903,\n  1904,\n  1905,\n  1906,\n  1907,\n  1908,\n  1909,\n  1910,\n  1911],\n [1912, 1913, 1914, 1915, 1916, 1917, 1918, 1919, 1920, 1921, 1922, 1923],\n [1924,\n  1925,\n  1926,\n  1927,\n  1928,\n  1929,\n  1930,\n  1931,\n  1932,\n  1933,\n  1934,\n  1935,\n  1936,\n  1937,\n  1938,\n  1939,\n  1940],\n [1941,\n  1942,\n  1943,\n  1944,\n  1945,\n  1946,\n  1947,\n  1948,\n  1949,\n  1950,\n  1951,\n  1952,\n  1953,\n  1954],\n [1955,\n  1956,\n  1957,\n  1958,\n  1959,\n  1960,\n  1961,\n  1962,\n  1963,\n  1964,\n  1965,\n  1966,\n  1967,\n  1968,\n  1969,\n  1970,\n  1971,\n  1972,\n  1973,\n  1974,\n  1975,\n  1976,\n  1977],\n [1978, 1979, 1980, 1981, 1982, 1983, 1984],\n [1985, 1986, 1987],\n [1988, 1989, 1990, 1991, 1992],\n [1993, 1994, 1995, 1996, 1997, 1998],\n [1999, 2000, 2001, 2002, 2003, 2004, 2005, 2006, 2007],\n [2008, 2009, 2010, 2011, 2012, 2013],\n [2014, 2015, 2016, 2017, 2018, 2019, 2020, 2021, 2022, 2023, 2024, 2025],\n [2026, 2027, 2028, 2029, 2030, 2031, 2032, 2033, 2034],\n [2035, 2036, 2037, 2038, 2039, 2040, 2041],\n [2042, 2043, 2044, 2045, 2046, 2047, 2048],\n [2049, 2050, 2051, 2052, 2053, 2054, 2055, 2056],\n [2057, 2058, 2059, 2060],\n [2061,\n  2062,\n  2063,\n  2064,\n  2065,\n  2066,\n  2067,\n  2068,\n  2069,\n  2070,\n  2071,\n  2072,\n  2073,\n  2074,\n  2075,\n  2076,\n  2077,\n  2078],\n [2079,\n  2080,\n  2081,\n  2082,\n  2083,\n  2084,\n  2085,\n  2086,\n  2087,\n  2088,\n  2089,\n  2090,\n  2091],\n [2092,\n  2093,\n  2094,\n  2095,\n  2096,\n  2097,\n  2098,\n  2099,\n  2100,\n  2101,\n  2102,\n  2103,\n  2104],\n [2105, 2106, 2107, 2108, 2109, 2110, 2111, 2112, 2113, 2114, 2115, 2116],\n [2117,\n  2118,\n  2119,\n  2120,\n  2121,\n  2122,\n  2123,\n  2124,\n  2125,\n  2126,\n  2127,\n  2128,\n  2129,\n  2130,\n  2131,\n  2132],\n [2133, 2134, 2135, 2136, 2137, 2138, 2139, 2140],\n [2141,\n  2142,\n  2143,\n  2144,\n  2145,\n  2146,\n  2147,\n  2148,\n  2149,\n  2150,\n  2151,\n  2152,\n  2153,\n  2154,\n  2155,\n  2156],\n [2157, 2158, 2159, 2160, 2161],\n [2162, 2163, 2164, 2165],\n [2166,\n  2167,\n  2168,\n  2169,\n  2170,\n  2171,\n  2172,\n  2173,\n  2174,\n  2175,\n  2176,\n  2177,\n  2178,\n  2179,\n  2180,\n  2181,\n  2182,\n  2183,\n  2184],\n [2185, 2186, 2187, 2188, 2189, 2190],\n [2191, 2192, 2193, 2194, 2195],\n [2196,\n  2197,\n  2198,\n  2199,\n  2200,\n  2201,\n  2202,\n  2203,\n  2204,\n  2205,\n  2206,\n  2207,\n  2208,\n  2209,\n  2210,\n  2211,\n  2212,\n  2213,\n  2214],\n [2215,\n  2216,\n  2217,\n  2218,\n  2219,\n  2220,\n  2221,\n  2222,\n  2223,\n  2224,\n  2225,\n  2226,\n  2227,\n  2228,\n  2229],\n [2230, 2231, 2232, 2233, 2234, 2235, 2236, 2237],\n [2238, 2239, 2240, 2241, 2242, 2243, 2244, 2245, 2246],\n [2247,\n  2248,\n  2249,\n  2250,\n  2251,\n  2252,\n  2253,\n  2254,\n  2255,\n  2256,\n  2257,\n  2258,\n  2259,\n  2260,\n  2261,\n  2262],\n [2263, 2264, 2265, 2266, 2267, 2268, 2269, 2270, 2271, 2272, 2273, 2274],\n [2275, 2276, 2277, 2278, 2279, 2280],\n [2281, 2282, 2283, 2284, 2285, 2286],\n [2287, 2288, 2289, 2290, 2291, 2292, 2293, 2294, 2295],\n [2296, 2297, 2298, 2299, 2300, 2301],\n [2302,\n  2303,\n  2304,\n  2305,\n  2306,\n  2307,\n  2308,\n  2309,\n  2310,\n  2311,\n  2312,\n  2313,\n  2314,\n  2315],\n [2316],\n [2317, 2318, 2319, 2320, 2321, 2322],\n [2323, 2324, 2325, 2326, 2327],\n [2328, 2329, 2330, 2331, 2332, 2333, 2334, 2335],\n [2336, 2337, 2338, 2339, 2340, 2341, 2342, 2343],\n [2344, 2345, 2346, 2347, 2348, 2349],\n [2350, 2351, 2352, 2353, 2354, 2355, 2356, 2357, 2358, 2359],\n [2360, 2361, 2362, 2363, 2364, 2365, 2366],\n [2367, 2368, 2369, 2370, 2371, 2372, 2373, 2374],\n [2375,\n  2376,\n  2377,\n  2378,\n  2379,\n  2380,\n  2381,\n  2382,\n  2383,\n  2384,\n  2385,\n  2386,\n  2387,\n  2388,\n  2389],\n [2390, 2391, 2392, 2393, 2394, 2395, 2396, 2397, 2398],\n [2399, 2400, 2401, 2402, 2403, 2404, 2405],\n [2406,\n  2407,\n  2408,\n  2409,\n  2410,\n  2411,\n  2412,\n  2413,\n  2414,\n  2415,\n  2416,\n  2417,\n  2418],\n [2419, 2420, 2421, 2422, 2423, 2424, 2425, 2426, 2427, 2428, 2429],\n [2430, 2431, 2432, 2433, 2434, 2435, 2436, 2437],\n [2438, 2439, 2440, 2441, 2442, 2443, 2444],\n [2445, 2446, 2447, 2448, 2449, 2450, 2451],\n [2452, 2453, 2454, 2455, 2456, 2457, 2458, 2459, 2460],\n [2461, 2462, 2463, 2464, 2465, 2466],\n [2467, 2468, 2469, 2470, 2471, 2472, 2473],\n [2474, 2475, 2476, 2477, 2478, 2479, 2480],\n [2481,\n  2482,\n  2483,\n  2484,\n  2485,\n  2486,\n  2487,\n  2488,\n  2489,\n  2490,\n  2491,\n  2492,\n  2493],\n [2494, 2495, 2496, 2497, 2498, 2499, 2500, 2501],\n [2502,\n  2503,\n  2504,\n  2505,\n  2506,\n  2507,\n  2508,\n  2509,\n  2510,\n  2511,\n  2512,\n  2513,\n  2514],\n [2515,\n  2516,\n  2517,\n  2518,\n  2519,\n  2520,\n  2521,\n  2522,\n  2523,\n  2524,\n  2525,\n  2526,\n  2527,\n  2528,\n  2529,\n  2530,\n  2531,\n  2532,\n  2533],\n [2534,\n  2535,\n  2536,\n  2537,\n  2538,\n  2539,\n  2540,\n  2541,\n  2542,\n  2543,\n  2544,\n  2545,\n  2546,\n  2547,\n  2548,\n  2549,\n  2550,\n  2551,\n  2552,\n  2553,\n  2554,\n  2555,\n  2556,\n  2557,\n  2558,\n  2559,\n  2560,\n  2561,\n  2562,\n  2563,\n  2564,\n  2565,\n  2566,\n  2567],\n [2568, 2569, 2570, 2571, 2572, 2573, 2574],\n [2575, 2576, 2577, 2578, 2579, 2580, 2581, 2582, 2583, 2584],\n [2585, 2586, 2587, 2588, 2589, 2590, 2591, 2592, 2593, 2594],\n [2595,\n  2596,\n  2597,\n  2598,\n  2599,\n  2600,\n  2601,\n  2602,\n  2603,\n  2604,\n  2605,\n  2606,\n  2607],\n [2608,\n  2609,\n  2610,\n  2611,\n  2612,\n  2613,\n  2614,\n  2615,\n  2616,\n  2617,\n  2618,\n  2619,\n  2620,\n  2621],\n [2622, 2623, 2624, 2625, 2626],\n [2627, 2628, 2629, 2630, 2631, 2632, 2633, 2634, 2635, 2636, 2637],\n [2638, 2639, 2640, 2641, 2642, 2643, 2644],\n [2645, 2646, 2647, 2648, 2649, 2650, 2651],\n [2652, 2653, 2654, 2655, 2656, 2657, 2658, 2659, 2660, 2661],\n [2662,\n  2663,\n  2664,\n  2665,\n  2666,\n  2667,\n  2668,\n  2669,\n  2670,\n  2671,\n  2672,\n  2673,\n  2674,\n  2675,\n  2676,\n  2677,\n  2678],\n [2679, 2680, 2681, 2682, 2683, 2684, 2685, 2686, 2687, 2688, 2689],\n [2690,\n  2691,\n  2692,\n  2693,\n  2694,\n  2695,\n  2696,\n  2697,\n  2698,\n  2699,\n  2700,\n  2701,\n  2702,\n  2703,\n  2704,\n  2705,\n  2706,\n  2707,\n  2708,\n  2709,\n  2710,\n  2711,\n  2712,\n  2713,\n  2714,\n  2715,\n  2716,\n  2717,\n  2718,\n  2719],\n [2720,\n  2721,\n  2722,\n  2723,\n  2724,\n  2725,\n  2726,\n  2727,\n  2728,\n  2729,\n  2730,\n  2731,\n  2732,\n  2733,\n  2734,\n  2735,\n  2736],\n [2737, 2738, 2739, 2740, 2741, 2742, 2743, 2744, 2745, 2746, 2747],\n [2748,\n  2749,\n  2750,\n  2751,\n  2752,\n  2753,\n  2754,\n  2755,\n  2756,\n  2757,\n  2758,\n  2759,\n  2760,\n  2761,\n  2762,\n  2763,\n  2764,\n  2765,\n  2766,\n  2767,\n  2768,\n  2769,\n  2770,\n  2771],\n [2772,\n  2773,\n  2774,\n  2775,\n  2776,\n  2777,\n  2778,\n  2779,\n  2780,\n  2781,\n  2782,\n  2783,\n  2784,\n  2785,\n  2786,\n  2787,\n  2788,\n  2789,\n  2790,\n  2791,\n  2792,\n  2793,\n  2794,\n  2795,\n  2796,\n  2797],\n [2798, 2799, 2800, 2801, 2802, 2803, 2804, 2805],\n [2806,\n  2807,\n  2808,\n  2809,\n  2810,\n  2811,\n  2812,\n  2813,\n  2814,\n  2815,\n  2816,\n  2817,\n  2818,\n  2819,\n  2820],\n [2821,\n  2822,\n  2823,\n  2824,\n  2825,\n  2826,\n  2827,\n  2828,\n  2829,\n  2830,\n  2831,\n  2832,\n  2833],\n [2834, 2835, 2836, 2837, 2838, 2839, 2840, 2841, 2842, 2843, 2844],\n [2845, 2846, 2847, 2848, 2849, 2850, 2851, 2852, 2853, 2854],\n [2855,\n  2856,\n  2857,\n  2858,\n  2859,\n  2860,\n  2861,\n  2862,\n  2863,\n  2864,\n  2865,\n  2866,\n  2867,\n  2868,\n  2869,\n  2870,\n  2871,\n  2872,\n  2873,\n  2874,\n  2875,\n  2876],\n [2877, 2878, 2879, 2880, 2881, 2882, 2883, 2884, 2885],\n [2886,\n  2887,\n  2888,\n  2889,\n  2890,\n  2891,\n  2892,\n  2893,\n  2894,\n  2895,\n  2896,\n  2897,\n  2898,\n  2899,\n  2900,\n  2901,\n  2902,\n  2903,\n  2904,\n  2905,\n  2906,\n  2907,\n  2908,\n  2909,\n  2910,\n  2911,\n  2912,\n  2913,\n  2914,\n  2915,\n  2916,\n  2917,\n  2918,\n  2919,\n  2920,\n  2921,\n  2922,\n  2923,\n  2924,\n  2925,\n  2926,\n  2927,\n  2928,\n  2929],\n [2930, 2931, 2932, 2933, 2934, 2935, 2936, 2937, 2938],\n [2939, 2940, 2941, 2942, 2943, 2944, 2945, 2946, 2947, 2948, 2949],\n [2950,\n  2951,\n  2952,\n  2953,\n  2954,\n  2955,\n  2956,\n  2957,\n  2958,\n  2959,\n  2960,\n  2961,\n  2962,\n  2963,\n  2964,\n  2965],\n [2966, 2967, 2968, 2969, 2970, 2971, 2972, 2973, 2974],\n [2975, 2976, 2977, 2978, 2979, 2980],\n [2981,\n  2982,\n  2983,\n  2984,\n  2985,\n  2986,\n  2987,\n  2988,\n  2989,\n  2990,\n  2991,\n  2992,\n  2993,\n  2994,\n  2995,\n  2996,\n  2997,\n  2998,\n  2999,\n  3000,\n  3001,\n  3002,\n  3003,\n  3004,\n  3005],\n [3006, 3007, 3008, 3009, 3010, 3011, 3012, 3013, 3014, 3015, 3016],\n [3017,\n  3018,\n  3019,\n  3020,\n  3021,\n  3022,\n  3023,\n  3024,\n  3025,\n  3026,\n  3027,\n  3028,\n  3029,\n  3030],\n [3031,\n  3032,\n  3033,\n  3034,\n  3035,\n  3036,\n  3037,\n  3038,\n  3039,\n  3040,\n  3041,\n  3042,\n  3043],\n [3044, 3045, 3046, 3047, 3048, 3049, 3050],\n [3051,\n  3052,\n  3053,\n  3054,\n  3055,\n  3056,\n  3057,\n  3058,\n  3059,\n  3060,\n  3061,\n  3062,\n  3063,\n  3064,\n  3065,\n  3066,\n  3067,\n  3068,\n  3069,\n  3070,\n  3071,\n  3072,\n  3073,\n  3074,\n  3075],\n [3076, 3077, 3078, 3079, 3080, 3081, 3082, 3083],\n [3084, 3085, 3086, 3087, 3088, 3089, 3090, 3091, 3092, 3093, 3094, 3095],\n [3096, 3097, 3098, 3099, 3100, 3101, 3102],\n [3103, 3104, 3105, 3106, 3107],\n [3108,\n  3109,\n  3110,\n  3111,\n  3112,\n  3113,\n  3114,\n  3115,\n  3116,\n  3117,\n  3118,\n  3119,\n  3120,\n  3121,\n  3122,\n  3123,\n  3124,\n  3125,\n  3126,\n  3127,\n  3128],\n [3129, 3130, 3131, 3132, 3133, 3134, 3135, 3136],\n [3137, 3138, 3139, 3140, 3141, 3142, 3143, 3144, 3145, 3146],\n [3147, 3148, 3149, 3150, 3151, 3152],\n [3153,\n  3154,\n  3155,\n  3156,\n  3157,\n  3158,\n  3159,\n  3160,\n  3161,\n  3162,\n  3163,\n  3164,\n  3165,\n  3166,\n  3167,\n  3168,\n  3169,\n  3170,\n  3171,\n  3172,\n  3173,\n  3174,\n  3175],\n [3176,\n  3177,\n  3178,\n  3179,\n  3180,\n  3181,\n  3182,\n  3183,\n  3184,\n  3185,\n  3186,\n  3187,\n  3188,\n  3189,\n  3190,\n  3191,\n  3192,\n  3193,\n  3194,\n  3195,\n  3196,\n  3197,\n  3198,\n  3199],\n [3200,\n  3201,\n  3202,\n  3203,\n  3204,\n  3205,\n  3206,\n  3207,\n  3208,\n  3209,\n  3210,\n  3211,\n  3212,\n  3213,\n  3214,\n  3215,\n  3216,\n  3217,\n  3218,\n  3219,\n  3220,\n  3221,\n  3222,\n  3223,\n  3224,\n  3225,\n  3226,\n  3227,\n  3228,\n  3229,\n  3230,\n  3231,\n  3232,\n  3233,\n  3234,\n  3235,\n  3236],\n [3237,\n  3238,\n  3239,\n  3240,\n  3241,\n  3242,\n  3243,\n  3244,\n  3245,\n  3246,\n  3247,\n  3248,\n  3249,\n  3250,\n  3251,\n  3252,\n  3253,\n  3254,\n  3255],\n [3256,\n  3257,\n  3258,\n  3259,\n  3260,\n  3261,\n  3262,\n  3263,\n  3264,\n  3265,\n  3266,\n  3267,\n  3268,\n  3269,\n  3270],\n [3271, 3272, 3273, 3274, 3275, 3276, 3277, 3278, 3279],\n [3280,\n  3281,\n  3282,\n  3283,\n  3284,\n  3285,\n  3286,\n  3287,\n  3288,\n  3289,\n  3290,\n  3291,\n  3292,\n  3293,\n  3294,\n  3295,\n  3296],\n [3297,\n  3298,\n  3299,\n  3300,\n  3301,\n  3302,\n  3303,\n  3304,\n  3305,\n  3306,\n  3307,\n  3308,\n  3309,\n  3310,\n  3311,\n  3312,\n  3313,\n  3314,\n  3315,\n  3316,\n  3317],\n [3318,\n  3319,\n  3320,\n  3321,\n  3322,\n  3323,\n  3324,\n  3325,\n  3326,\n  3327,\n  3328,\n  3329,\n  3330],\n [3331, 3332, 3333, 3334, 3335, 3336, 3337, 3338, 3339, 3340, 3341, 3342],\n []]"
     },
     "metadata": {}
    }
   ],
   "execution_count": null
  },
  {
   "cell_type": "code",
   "metadata": {
    "cell_id": "00003-65e94a2a-ea6b-41ab-abe7-38015fe6a542",
    "deepnote_to_be_reexecuted": false,
    "source_hash": "2142f159",
    "execution_start": 1638836439757,
    "execution_millis": 5,
    "deepnote_output_heights": [
     null,
     21.1875
    ],
    "deepnote_cell_type": "code"
   },
   "source": "aspect=[]\npol=[]\ntemp=[]\nfor j in datas:\n    temp2=[]\n    aspect2=[]\n    pol2=[]\n    for k in j:\n        aspect3=[]\n        pol3=[]\n        temp2.append(arr1[k-1])\n        aspect3.append(arr2[k-1])\n        pol3.append(arr3[k-1])\n        aspect2.append(aspect3)\n        pol2.append(pol3)\n    temp.append(temp2)\n    aspect.append(aspect2)\n    pol.append(pol2)\nprint(len(temp))\nprint(len(aspect))\nprint(len(pol))\n\naspect.pop(0)\npol.pop(0)\nprint(pol[277])\nprint(aspect[277])\ndel pol[277]\ndel aspect[277]\nlen(aspect)\nprint(temp[278])\ndel temp[278]",
   "outputs": [
    {
     "name": "stdout",
     "text": "359\n359\n359\n[['polarity']]\n[['category']]\n['text']\n",
     "output_type": "stream"
    }
   ],
   "execution_count": null
  },
  {
   "cell_type": "code",
   "metadata": {
    "cell_id": "00004-a27e4723-95d5-4f19-9245-ffa1bc0fa6b3",
    "deepnote_to_be_reexecuted": false,
    "source_hash": "b7bd6aa4",
    "deepnote_output_heights": [
     232.390625
    ],
    "execution_start": 1638836439791,
    "execution_millis": 6,
    "deepnote_cell_type": "code"
   },
   "source": "aspect[0]",
   "outputs": [
    {
     "output_type": "execute_result",
     "execution_count": 5,
     "data": {
      "text/plain": "[[''],\n ['LAPTOP#GENERAL'],\n ['BATTERY#OPERATION_PERFORMANCE'],\n ['CPU#OPERATION_PERFORMANCE'],\n ['GRAPHICS#GENERAL'],\n ['HARD_DISC#DESIGN_FEATURES'],\n ['LAPTOP#OPERATION_PERFORMANCE'],\n ['LAPTOP#USABILITY'],\n ['LAPTOP#USABILITY'],\n [''],\n ['LAPTOP#PORTABILITY'],\n ['CPU#OPERATION_PERFORMANCE']]"
     },
     "metadata": {}
    }
   ],
   "execution_count": null
  },
  {
   "cell_type": "code",
   "metadata": {
    "cell_id": "00005-63143ce0-ddab-4193-a30b-07f12d25c5e8",
    "deepnote_to_be_reexecuted": false,
    "source_hash": "3b9d319e",
    "execution_start": 1638836439792,
    "execution_millis": 1,
    "deepnote_cell_type": "code"
   },
   "source": "count=0\nmax=0\nmaximum=[]\narray=[]\nfor i in temp:\n    #print(len(i))\n    maximum.append(len(i))\n    for j in i:\n        k=j.split()\n        #print(len(k))\n        array.append(len(k))",
   "outputs": [],
   "execution_count": null
  },
  {
   "cell_type": "code",
   "metadata": {
    "cell_id": "00006-3a8a8849-f140-4c6f-97f4-0e71eb043271",
    "deepnote_to_be_reexecuted": false,
    "source_hash": "d79646e9",
    "execution_start": 1638836439793,
    "execution_millis": 4,
    "deepnote_cell_type": "code"
   },
   "source": "max1 = maximum[0] \nfor i in range(0, len(maximum)):\n    if(maximum[i] > max1):\n        max1 = maximum[i];    \n           \nprint(\"Largest element present in given array: \" + str(max1));  \nlenc=max1",
   "outputs": [
    {
     "name": "stdout",
     "text": "Largest element present in given array: 44\n",
     "output_type": "stream"
    }
   ],
   "execution_count": null
  },
  {
   "cell_type": "code",
   "metadata": {
    "cell_id": "00007-45fb151a-4486-468c-accc-5d5b4d9afe51",
    "deepnote_to_be_reexecuted": false,
    "source_hash": "f2714011",
    "execution_start": 1638836439798,
    "execution_millis": 4,
    "deepnote_cell_type": "code"
   },
   "source": "max = array[0] \nfor i in range(0, len(array)):\n    if(array[i] > max):\n        max = array[i];    \n           \nprint(\"Largest element present in given array: \" + str(max));   \nwordc=max+1",
   "outputs": [
    {
     "name": "stdout",
     "text": "Largest element present in given array: 73\n",
     "output_type": "stream"
    }
   ],
   "execution_count": null
  },
  {
   "cell_type": "code",
   "metadata": {
    "cell_id": "00008-e1f20d38-c49c-4ef6-8463-47ba258b3a01",
    "deepnote_to_be_reexecuted": false,
    "source_hash": "83ae0609",
    "execution_start": 1638836686452,
    "execution_millis": 174,
    "deepnote_output_heights": [
     611
    ],
    "deepnote_cell_type": "code"
   },
   "source": "data =[]\nnum=[]\nabc=0\nfor i in temp:\n    if abc==0:\n        abc+=1\n        continue;\n    rev=[]\n    for j in i:\n        words=[]\n        if j=='':\n            for k in range(wordc+1):\n                words.append(\"EOF\")\n        else:\n            words=j.split()\n            num.append(len(words))\n            for k in range(len(words),wordc+1):\n                words.append(\"EOF\")\n        rev.append(words)\n    for ab in range(len(rev),lenc):\n        words=[]\n        for k in range(wordc+1):\n            words.append(\"EOF\")\n        rev.append(words)\n    data.append(rev)\n    abc+=1",
   "outputs": [],
   "execution_count": null
  },
  {
   "cell_type": "code",
   "metadata": {
    "cell_id": "00009-2cd91ec7-5406-4f83-9a23-626a8ca092bc",
    "deepnote_to_be_reexecuted": false,
    "source_hash": "2f507e3e",
    "execution_start": 1638836688243,
    "execution_millis": 1,
    "deepnote_cell_type": "code"
   },
   "source": "import numpy as np\ndata_laptops_test = np.array(data)",
   "outputs": [],
   "execution_count": null
  },
  {
   "cell_type": "code",
   "metadata": {
    "deepnote_output_heights": [
     21.1875
    ],
    "cell_id": "00010-7c8e2e95-ff78-4471-a997-7c44213bb5b6",
    "deepnote_to_be_reexecuted": false,
    "source_hash": "49beea12",
    "execution_start": 1638836689095,
    "execution_millis": 9,
    "deepnote_cell_type": "code"
   },
   "source": "category=[]\nfor i in aspect:\n    asp=[]\n    for j in i:\n        sent=[]\n        for k in j:\n            if k !='':\n                sent.append(k)\n\n        asp.append(sent)\n    for k in range(len(asp),lenc+1):\n        asp.append([])\n    category.append(asp)\nprint(len(category[0]))\nprint(data_laptops_test.shape)",
   "outputs": [
    {
     "name": "stdout",
     "text": "45\n(357, 44, 75)\n",
     "output_type": "stream"
    }
   ],
   "execution_count": null
  },
  {
   "cell_type": "code",
   "metadata": {
    "cell_id": "00011-41aa2a6c-729e-4392-a286-572724378c91",
    "deepnote_to_be_reexecuted": false,
    "source_hash": "8215efc5",
    "execution_start": 1638836695328,
    "execution_millis": 130,
    "deepnote_cell_type": "code"
   },
   "source": "aspects_laptops_test = np.array(category)",
   "outputs": [
    {
     "name": "stderr",
     "text": "/shared-libs/python3.7/py-core/lib/python3.7/site-packages/ipykernel_launcher.py:1: VisibleDeprecationWarning: Creating an ndarray from ragged nested sequences (which is a list-or-tuple of lists-or-tuples-or ndarrays with different lengths or shapes) is deprecated. If you meant to do this, you must specify 'dtype=object' when creating the ndarray\n  \"\"\"Entry point for launching an IPython kernel.\n",
     "output_type": "stream"
    }
   ],
   "execution_count": null
  },
  {
   "cell_type": "code",
   "metadata": {
    "cell_id": "00012-495349ef-9b00-4b42-9a3e-1f040c509957",
    "deepnote_to_be_reexecuted": false,
    "source_hash": "3d626663",
    "execution_start": 1638836696275,
    "execution_millis": 2,
    "deepnote_cell_type": "code"
   },
   "source": "polarity_laptops_test = np.array(pol)",
   "outputs": [
    {
     "name": "stderr",
     "text": "/shared-libs/python3.7/py-core/lib/python3.7/site-packages/ipykernel_launcher.py:1: VisibleDeprecationWarning: Creating an ndarray from ragged nested sequences (which is a list-or-tuple of lists-or-tuples-or ndarrays with different lengths or shapes) is deprecated. If you meant to do this, you must specify 'dtype=object' when creating the ndarray\n  \"\"\"Entry point for launching an IPython kernel.\n",
     "output_type": "stream"
    }
   ],
   "execution_count": null
  },
  {
   "cell_type": "code",
   "metadata": {
    "deepnote_output_heights": [
     21.1875
    ],
    "cell_id": "00013-c3a7a35c-6462-4940-8d4f-52e7a74441ce",
    "deepnote_to_be_reexecuted": false,
    "source_hash": "b33bff03",
    "execution_start": 1638836697096,
    "execution_millis": 6,
    "deepnote_cell_type": "code"
   },
   "source": "aspects_laptops_test.shape",
   "outputs": [
    {
     "output_type": "execute_result",
     "execution_count": 23,
     "data": {
      "text/plain": "(357, 45)"
     },
     "metadata": {}
    }
   ],
   "execution_count": null
  },
  {
   "cell_type": "code",
   "metadata": {
    "deepnote_output_heights": [
     21.1875
    ],
    "cell_id": "00014-bc604e1c-11b8-4a2a-b2ba-abdebfa354c4",
    "deepnote_to_be_reexecuted": false,
    "source_hash": "5c255d48",
    "execution_start": 1638836697963,
    "execution_millis": 10,
    "deepnote_cell_type": "code"
   },
   "source": "polarity_laptops_test.shape",
   "outputs": [
    {
     "output_type": "execute_result",
     "execution_count": 24,
     "data": {
      "text/plain": "(357,)"
     },
     "metadata": {}
    }
   ],
   "execution_count": null
  },
  {
   "cell_type": "code",
   "metadata": {
    "cell_id": "00015-3f3104d0-2f3f-4e9c-b893-35f210324f84",
    "deepnote_to_be_reexecuted": false,
    "source_hash": "25d3a9fe",
    "execution_start": 1638836698682,
    "execution_millis": 297,
    "deepnote_cell_type": "code"
   },
   "source": "with open('data_laptop_357.npy', 'wb') as f:\n    np.save(f, data_laptops_test)\n    np.save(f, aspects_laptops_test)",
   "outputs": [],
   "execution_count": null
  },
  {
   "cell_type": "code",
   "metadata": {
    "cell_id": "00016-0c81d824-25dc-4063-9e2f-30aad4e88fb1",
    "deepnote_to_be_reexecuted": false,
    "source_hash": "f200735f",
    "execution_start": 1638836699705,
    "execution_millis": 0,
    "deepnote_cell_type": "code"
   },
   "source": "with open ('labels_laptops_357.npy', 'wb') as f:\n    np.save(f,polarity_laptops_test)",
   "outputs": [],
   "execution_count": null
  },
  {
   "cell_type": "code",
   "source": "",
   "metadata": {
    "tags": [],
    "cell_id": "00017-77be9faa-c38f-4757-b62e-72a893c47a30",
    "deepnote_to_be_reexecuted": false,
    "source_hash": "b623e53d",
    "execution_start": 1638836440267,
    "execution_millis": 0,
    "deepnote_cell_type": "code"
   },
   "outputs": [],
   "execution_count": null
  },
  {
   "cell_type": "markdown",
   "source": "<a style='text-decoration:none;line-height:16px;display:flex;color:#5B5B62;padding:10px;justify-content:end;' href='https://deepnote.com?utm_source=created-in-deepnote-cell&projectId=d25c4a3c-cf63-4cdf-b757-db6bd5e8f60e' target=\"_blank\">\n<img alt='Created in deepnote.com' style='display:inline;max-height:16px;margin:0px;margin-right:7.5px;' src='data:image/svg+xml;base64,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' > </img>\nCreated in <span style='font-weight:600;margin-left:4px;'>Deepnote</span></a>",
   "metadata": {
    "tags": [],
    "created_in_deepnote_cell": true,
    "deepnote_cell_type": "markdown"
   }
  }
 ],
 "nbformat": 4,
 "nbformat_minor": 5,
 "metadata": {
  "deepnote": {},
  "deepnote_execution_queue": [],
  "deepnote_notebook_id": "8d8fcfe1-c574-46c1-b7f5-bce783bb5301",
  "kernelspec": {
   "display_name": "Python 3",
   "language": "python",
   "name": "python3"
  },
  "language_info": {
   "codemirror_mode": {
    "name": "ipython",
    "version": 3
   },
   "file_extension": ".py",
   "mimetype": "text/x-python",
   "name": "python",
   "nbconvert_exporter": "python",
   "pygments_lexer": "ipython3",
   "version": "3.8.8"
  }
 }
}